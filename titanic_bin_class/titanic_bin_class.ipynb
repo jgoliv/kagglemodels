{
 "cells": [
  {
   "cell_type": "code",
   "execution_count": 1,
   "id": "428ed161-b9fc-4172-896b-4350152351b3",
   "metadata": {},
   "outputs": [],
   "source": [
    "import pandas as pd\n",
    "import numpy as np\n",
    "import matplotlib.pyplot as plt\n",
    "import seaborn as sns"
   ]
  },
  {
   "cell_type": "code",
   "execution_count": 2,
   "id": "6168c4ce-e39f-485f-b867-19be34e060e1",
   "metadata": {},
   "outputs": [],
   "source": [
    "data = pd.read_csv(\"dataset/train.csv\")"
   ]
  },
  {
   "cell_type": "code",
   "execution_count": 3,
   "id": "43539400-4546-4f64-80eb-66301ccd85d3",
   "metadata": {},
   "outputs": [],
   "source": [
    "from sklearn.model_selection import StratifiedShuffleSplit\n",
    "\n",
    "split = StratifiedShuffleSplit(n_splits=1, test_size=0.2)\n",
    "\n",
    "for train_indices, test_indices in split.split(data, data[[\"Survived\", \"Pclass\", \"Sex\"]]):\n",
    "    strat_train_set = data.loc[train_indices]\n",
    "    strat_test_set = data.loc[test_indices]"
   ]
  },
  {
   "cell_type": "code",
   "execution_count": 4,
   "id": "b46d4b08",
   "metadata": {},
   "outputs": [],
   "source": [
    "from sklearn.base import BaseEstimator, TransformerMixin\n",
    "from sklearn.impute import SimpleImputer\n",
    "from sklearn.preprocessing import OneHotEncoder, LabelEncoder\n",
    "\n",
    "class AgeImputer(BaseEstimator, TransformerMixin):\n",
    "    \n",
    "    def fit(self, X, y=None):\n",
    "        return self\n",
    "    \n",
    "    def transform(self, X):\n",
    "        imputer = SimpleImputer(strategy=\"mean\")\n",
    "        X[\"Age\"] = imputer.fit_transform(X[[\"Age\"]])\n",
    "        return X\n",
    "\n",
    "class FeatureEncoder(BaseEstimator, TransformerMixin):\n",
    "    \n",
    "    def fit(self, X, y=None):\n",
    "        return self\n",
    "    \n",
    "    def transform(self, X):\n",
    "        label_encoder = LabelEncoder()\n",
    "        one_hot_encoder = OneHotEncoder()\n",
    "\n",
    "        X[\"Sex\"] = label_encoder.fit_transform(X[\"Sex\"])\n",
    "\n",
    "        matrix = one_hot_encoder.fit_transform(X[[\"Embarked\"]]).toarray()\n",
    "        df = pd.DataFrame(matrix, columns=one_hot_encoder.get_feature_names_out([\"Embarked\"]))\n",
    "\n",
    "        df.index = X.index\n",
    "        X = pd.concat([X, df], axis=1)\n",
    "        \n",
    "        return X \n",
    "\n",
    "class FeatureDropper(BaseEstimator, TransformerMixin):\n",
    "    \n",
    "    def fit(self, X, y=None):\n",
    "        return self\n",
    "    \n",
    "    def transform(self, X):\n",
    "        return X.drop([\"PassengerId\", \"Embarked\", \"Name\", \"Ticket\", \"Cabin\", \"Embarked_nan\"], axis=1, errors=\"ignore\")"
   ]
  },
  {
   "cell_type": "code",
   "execution_count": null,
   "id": "62b66839-f498-4839-9e83-17b86653f963",
   "metadata": {},
   "outputs": [],
   "source": [
    "from sklearn.pipeline import Pipeline\n",
    "\n",
    "pipeline = Pipeline([\n",
    "    (\"age_imputer\", AgeImputer()),\n",
    "    (\"feature_encoder\", FeatureEncoder()),\n",
    "    (\"feature_dropper\", FeatureDropper())\n",
    "])"
   ]
  },
  {
   "cell_type": "code",
   "execution_count": null,
   "id": "b2e89d0e-4dfb-4efb-95cb-902dcf887908",
   "metadata": {},
   "outputs": [],
   "source": [
    "from sklearn.preprocessing import StandardScaler\n",
    "\n",
    "strat_train_set = pipeline.fit_transform(strat_train_set)\n",
    "\n",
    "X_data_train = strat_train_set.drop(['Survived'], axis=1)\n",
    "y_data_train = strat_train_set['Survived']\n",
    "\n",
    "scaler = StandardScaler()\n",
    "\n",
    "X_data_train = scaler.fit_transform(X_data_train)\n",
    "y_data_train = y_data_train.to_numpy()"
   ]
  },
  {
   "cell_type": "code",
   "execution_count": null,
   "id": "c335279d-8229-45ef-b64e-fa21e16aa57a",
   "metadata": {},
   "outputs": [],
   "source": [
    "from sklearn.ensemble import RandomForestClassifier\n",
    "from sklearn.model_selection import GridSearchCV\n",
    "\n",
    "rf = RandomForestClassifier()\n",
    "\n",
    "param_grid = [{\n",
    "        \"n_estimators\": [10, 100, 200, 500, 750],\n",
    "        \"max_depth\": [None, 5, 10, 12],\n",
    "        \"min_samples_split\": [2, 3, 4]\n",
    "    }]\n",
    "\n",
    "grid_search = GridSearchCV(rf, param_grid, cv=3, scoring=\"accuracy\")\n",
    "grid_search.fit(X_data_train, y_data_train)"
   ]
  },
  {
   "cell_type": "code",
   "execution_count": null,
   "id": "4c7f3d45",
   "metadata": {},
   "outputs": [],
   "source": [
    "best_rf = grid_search.best_estimator_\n",
    "\n",
    "strat_test_set = pipeline.fit_transform(strat_test_set)\n",
    "\n",
    "X_data_test = strat_test_set.drop(['Survived'], axis=1)\n",
    "y_data_test = strat_test_set['Survived']\n",
    "\n",
    "scaler = StandardScaler()\n",
    "\n",
    "X_data_test = scaler.fit_transform(X_data_test)\n",
    "y_data_test = y_data_test.to_numpy()\n",
    "\n",
    "best_rf.score(X_data_test, y_data_test)"
   ]
  },
  {
   "cell_type": "code",
   "execution_count": null,
   "id": "aa1038a0",
   "metadata": {},
   "outputs": [],
   "source": [
    "final_data = pipeline.fit_transform(data)\n",
    "\n",
    "X_final = final_data.drop(['Survived'],axis=1)\n",
    "y_final = final_data['Survived']\n",
    "\n",
    "scaler = StandardScaler()\n",
    "\n",
    "X_data_final = scaler.fit_transform(X_final)\n",
    "y_data_final = y_final.to_numpy()\n",
    "\n",
    "final_rf = RandomForestClassifier()\n",
    "\n",
    "param_grid = [{\n",
    "        \"n_estimators\": [10, 100, 200, 500, 750],\n",
    "        \"max_depth\": [None, 5, 10, 12],\n",
    "        \"min_samples_split\": [2, 3, 4]\n",
    "    }]\n",
    "\n",
    "grid_search = GridSearchCV(final_rf, param_grid, cv=3, scoring=\"accuracy\")\n",
    "grid_search.fit(X_data_final, y_data_final)\n",
    "\n",
    "best_final_rf = grid_search.best_estimator_"
   ]
  },
  {
   "cell_type": "code",
   "execution_count": null,
   "id": "bbfdecd7",
   "metadata": {},
   "outputs": [],
   "source": [
    "test_data = pd.read_csv(\"files/dataset/test.csv\")\n",
    "\n",
    "scaler = StandardScaler()\n",
    "\n",
    "X_test = pipeline.fit_transform(test_data)\n",
    "X_test = scaler.fit_transform(X_test)"
   ]
  },
  {
   "cell_type": "code",
   "execution_count": null,
   "id": "a2fcd8cc",
   "metadata": {},
   "outputs": [],
   "source": [
    "predictions = best_final_rf.predict(X_test)\n",
    "\n",
    "predictions_df = pd.DataFrame(test_data['PassengerId'])\n",
    "predictions_df['Survived'] = predictions\n",
    "\n",
    "predictions_df.to_csv(\"files/dataset/predictions.csv\", index=False)"
   ]
  }
 ],
 "metadata": {
  "kernelspec": {
   "display_name": ".venv",
   "language": "python",
   "name": "python3"
  },
  "language_info": {
   "codemirror_mode": {
    "name": "ipython",
    "version": 3
   },
   "file_extension": ".py",
   "mimetype": "text/x-python",
   "name": "python",
   "nbconvert_exporter": "python",
   "pygments_lexer": "ipython3",
   "version": "3.10.12"
  }
 },
 "nbformat": 4,
 "nbformat_minor": 5
}
